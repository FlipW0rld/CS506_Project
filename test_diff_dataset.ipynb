{
 "cells": [
  {
   "cell_type": "code",
   "execution_count": 86,
   "id": "initial_id",
   "metadata": {
    "ExecuteTime": {
     "end_time": "2024-12-11T00:53:56.156765Z",
     "start_time": "2024-12-11T00:53:56.151633Z"
    },
    "collapsed": true
   },
   "outputs": [],
   "source": [
    "import pandas as pd\n",
    "import matplotlib.pyplot as plt\n",
    "import sns\n",
    "from sklearn.ensemble import RandomForestRegressor\n",
    "from sklearn.metrics import mean_absolute_error\n",
    "from sklearn.preprocessing import LabelEncoder\n",
    "from sklearn.model_selection import train_test_split\n",
    "from sklearn.preprocessing import OneHotEncoder\n",
    "from sklearn.compose import ColumnTransformer"
   ]
  },
  {
   "cell_type": "code",
   "execution_count": null,
   "id": "f43271ee3a846e23",
   "metadata": {
    "ExecuteTime": {
     "end_time": "2024-12-11T00:53:57.903643Z",
     "start_time": "2024-12-11T00:53:57.897161Z"
    }
   },
   "outputs": [],
   "source": [
    "def preprocess_old_data(file_path):\n",
    "    df = pd.read_csv(file_path)\n",
    "\n",
    "    # Convert 'Arrival Time' to a numerical feature\n",
    "    if 'Arrival Time' in df.columns:\n",
    "        df['arrival_minutes_after_noon'] = (\n",
    "                pd.to_datetime(df['Arrival Time'], format='%H:%M', errors='coerce').dt.hour * 60 +\n",
    "                pd.to_datetime(df['Arrival Time'], format='%H:%M', errors='coerce').dt.minute\n",
    "        )\n",
    "    else:\n",
    "        raise KeyError(\"'Arrival Time' column is missing in the dataset.\")\n",
    "\n",
    "    # Encode the 'Weather' column\n",
    "    if 'Weather' in df.columns:\n",
    "        df['Weather'] = df['Weather'].astype('category').cat.codes\n",
    "\n",
    "    # Fill missing values\n",
    "    df = df.ffill().bfill()\n",
    "\n",
    "    return df\n"
   ]
  },
  {
   "cell_type": "code",
   "execution_count": null,
   "id": "cb32e1eb8925c2d9",
   "metadata": {
    "ExecuteTime": {
     "end_time": "2024-12-11T00:53:59.470193Z",
     "start_time": "2024-12-11T00:53:59.464584Z"
    }
   },
   "outputs": [],
   "source": [
    "def preprocess_new_data(file_path):\n",
    "    df = pd.read_csv(file_path)\n",
    "\n",
    "    # Make sure 'Arrival Time' exists\n",
    "    if 'Arrival Time' in df.columns:\n",
    "        df['arrival_minutes_after_noon'] = (\n",
    "                pd.to_datetime(df['Arrival Time'], format='%H:%M:%S', errors='coerce').dt.hour * 60 +\n",
    "                pd.to_datetime(df['Arrival Time'], format='%H:%M:%S', errors='coerce').dt.minute\n",
    "        )\n",
    "    else:\n",
    "        raise KeyError(\"'Arrival Time' column is missing in the dataset.\")\n",
    "\n",
    "    # Fill missing values\n",
    "    df = df.ffill().bfill()\n",
    "\n",
    "    return df\n"
   ]
  },
  {
   "cell_type": "code",
   "execution_count": 90,
   "id": "752265e94c9ecf36",
   "metadata": {
    "ExecuteTime": {
     "end_time": "2024-12-11T00:54:01.054536Z",
     "start_time": "2024-12-11T00:54:01.049207Z"
    }
   },
   "outputs": [],
   "source": [
    "def prepare_features_and_target(df):\n",
    "    \"\"\"\n",
    "    Prepare features (X) and target (y) from the dataset.\n",
    "    \"\"\"\n",
    "    y = df['arrival_minutes_after_noon']\n",
    "    X = df.drop(columns=['arrival_minutes_after_noon', 'Date', 'Week Day', 'Arrival Time'], errors='ignore')\n",
    "    return X, y"
   ]
  },
  {
   "cell_type": "code",
   "execution_count": 91,
   "id": "10d3e280699f3b5c",
   "metadata": {
    "ExecuteTime": {
     "end_time": "2024-12-11T00:54:02.270147Z",
     "start_time": "2024-12-11T00:54:02.265317Z"
    }
   },
   "outputs": [],
   "source": [
    "def train_random_forest(X_train, y_train):\n",
    "    \"\"\"\n",
    "    Train RandomForestRegressor on the training data.\n",
    "    \"\"\"\n",
    "    model = RandomForestRegressor(n_estimators=200, max_depth=10, random_state=42)\n",
    "    model.fit(X_train, y_train)\n",
    "    return model"
   ]
  },
  {
   "cell_type": "code",
   "execution_count": 92,
   "id": "dd273a2372258dd0",
   "metadata": {
    "ExecuteTime": {
     "end_time": "2024-12-11T00:54:03.459806Z",
     "start_time": "2024-12-11T00:54:03.455562Z"
    }
   },
   "outputs": [],
   "source": [
    "def evaluate_model(model, X_test, y_test):\n",
    "    \"\"\"\n",
    "    Evaluate the model and calculate MAE.\n",
    "    \"\"\"\n",
    "    y_pred = model.predict(X_test)\n",
    "    mae = mean_absolute_error(y_test, y_pred)\n",
    "    return mae, y_pred\n"
   ]
  },
  {
   "cell_type": "code",
   "execution_count": 93,
   "id": "8649be723a537da7",
   "metadata": {
    "ExecuteTime": {
     "end_time": "2024-12-11T00:54:04.773440Z",
     "start_time": "2024-12-11T00:54:04.767695Z"
    }
   },
   "outputs": [],
   "source": [
    "def visualize_results(y_test, y_pred_old, y_pred_new):\n",
    "    \"\"\"\n",
    "    Visualize the comparison between old and new datasets.\n",
    "    \"\"\"\n",
    "    plt.figure(figsize=(10, 6))\n",
    "    plt.plot(y_test, label='Actual', color='blue', marker='o')\n",
    "    plt.plot(y_pred_old, label='Predicted (Old Data)', linestyle='--', color='red', marker='x')\n",
    "    plt.plot(y_pred_new, label='Predicted (New Data)', linestyle='--', color='green', marker='x')\n",
    "    plt.xlabel('Sample Index')\n",
    "    plt.ylabel('Arrival Time (minutes after noon)')\n",
    "    plt.title('Comparison of Predictions Using Old vs New Data')\n",
    "    plt.legend()\n",
    "    plt.grid(True)\n",
    "    plt.tight_layout()\n",
    "    plt.show()\n"
   ]
  },
  {
   "cell_type": "code",
   "execution_count": 94,
   "id": "b3f97fa35d39513",
   "metadata": {
    "ExecuteTime": {
     "end_time": "2024-12-11T00:54:06.150537Z",
     "start_time": "2024-12-11T00:54:06.146055Z"
    }
   },
   "outputs": [],
   "source": [
    "def train_random_forest(X_train, y_train):\n",
    "    \"\"\"\n",
    "    Train RandomForestRegressor on the training data.\n",
    "    \"\"\"\n",
    "    model = RandomForestRegressor(n_estimators=200, max_depth=10, random_state=42)\n",
    "    model.fit(X_train, y_train)\n",
    "    return model\n"
   ]
  },
  {
   "cell_type": "code",
   "execution_count": 73,
   "id": "da0b0849db7031c6",
   "metadata": {
    "ExecuteTime": {
     "end_time": "2024-12-11T00:49:08.986776Z",
     "start_time": "2024-12-11T00:49:08.982580Z"
    }
   },
   "outputs": [],
   "source": [
    "def evaluate_model(model, X_test, y_test):\n",
    "    \"\"\"\n",
    "    Evaluate the model on the test set and return the MAE and predictions.\n",
    "    \"\"\"\n",
    "    y_pred = model.predict(X_test)\n",
    "    mae = mean_absolute_error(y_test, y_pred)\n",
    "    return mae, y_pred\n"
   ]
  },
  {
   "cell_type": "code",
   "execution_count": 95,
   "id": "a45c6d03895a36ca",
   "metadata": {
    "ExecuteTime": {
     "end_time": "2024-12-11T00:54:07.559315Z",
     "start_time": "2024-12-11T00:54:07.550715Z"
    }
   },
   "outputs": [],
   "source": [
    "def visualize_results(y_test, y_pred_old, y_pred_new):\n",
    "    \"\"\"\n",
    "    Visualize the comparison of actual vs predicted values for old and new datasets.\n",
    "    \"\"\"\n",
    "    plt.figure(figsize=(12, 6))\n",
    "\n",
    "    # Scatter plot for Old Data\n",
    "    plt.scatter(y_test, y_pred_old, alpha=0.6, color='blue', label='Predictions (Old Data)')\n",
    "    plt.plot([y_test.min(), y_test.max()], [y_test.min(), y_test.max()], '--', color='gray', label='Ideal Fit (Old)')\n",
    "\n",
    "    # Scatter plot for New Data\n",
    "    plt.scatter(y_test, y_pred_new, alpha=0.6, color='red', label='Predictions (New Data)')\n",
    "    plt.plot([y_test.min(), y_test.max()], [y_test.min(), y_test.max()], '--', color='black', label='Ideal Fit (New)')\n",
    "\n",
    "    plt.title('Comparison of Predictions: Old vs New Data')\n",
    "    plt.xlabel('Actual Values')\n",
    "    plt.ylabel('Predicted Values')\n",
    "    plt.legend()\n",
    "    plt.grid(True)\n",
    "    plt.show()\n",
    "\n",
    "    # MAE Comparison Bar Chart\n",
    "    mae_values = [mean_absolute_error(y_test, y_pred_old), mean_absolute_error(y_test, y_pred_new)]\n",
    "    labels = ['Old Data', 'New Data']\n",
    "\n",
    "    plt.figure(figsize=(8, 5))\n",
    "    plt.bar(labels, mae_values, color=['blue', 'red'], alpha=0.7)\n",
    "    plt.title('MAE Comparison')\n",
    "    plt.ylabel('Mean Absolute Error')\n",
    "    plt.grid(axis='y', linestyle='--', alpha=0.7)\n",
    "    plt.show()\n"
   ]
  },
  {
   "cell_type": "code",
   "execution_count": 96,
   "id": "adf7f12960ab9400",
   "metadata": {
    "ExecuteTime": {
     "end_time": "2024-12-11T00:54:09.470881Z",
     "start_time": "2024-12-11T00:54:09.463761Z"
    }
   },
   "outputs": [],
   "source": [
    "def preprocess_test_data(file_path, reference_columns):\n",
    "    \"\"\"\n",
    "    Preprocess the test data and ensure it has the same columns as training data.\n",
    "    \"\"\"\n",
    "    df = pd.read_csv(file_path)\n",
    "    df['arrival_minutes_after_noon'] = pd.to_datetime(\n",
    "        df['Arrival Time'], format='%H:%M:%S', errors='coerce'\n",
    "    ).dt.hour * 60 + pd.to_datetime(df['Arrival Time']).dt.minute\n",
    "    df = df.dropna(subset=['arrival_minutes_after_noon'])\n",
    "\n",
    "    # Convert categorical features to one-hot encoding\n",
    "    weather_dummies = pd.get_dummies(df.filter(like='Weather'), prefix='Weather')\n",
    "    df = pd.concat([df, weather_dummies], axis=1)\n",
    "\n",
    "    # Add missing columns to match the training data\n",
    "    for col in reference_columns:\n",
    "        if col not in df.columns:\n",
    "            df[col] = 0  # Add missing columns with default value 0\n",
    "    df = df[reference_columns]  # Ensure column order matches\n",
    "    return df\n"
   ]
  },
  {
   "cell_type": "code",
   "execution_count": 99,
   "id": "a9e4bfd88f02053d",
   "metadata": {
    "ExecuteTime": {
     "end_time": "2024-12-11T00:56:00.511019Z",
     "start_time": "2024-12-11T00:56:00.485624Z"
    }
   },
   "outputs": [
    {
     "name": "stdout",
     "output_type": "stream",
     "text": [
      "Old Data Preview:\n",
      "        Date Week Day  Weather Arrival Time  arrival_minutes_after_noon\n",
      "0  2024/10/7   Monday        1        14:25                         865\n",
      "1  2024/10/7   Monday        1        15:27                         927\n",
      "2  2024/10/7   Monday        1        16:36                         996\n",
      "3  2024/10/7   Monday        1        12:57                         777\n",
      "4  2024/10/7   Monday        1        15:35                         935\n",
      "New Data Preview:\n",
      "        Date Week Day Arrival Time  arrival_minutes_after_noon  order  \\\n",
      "0  2024/10/7   Monday     12:51:00                         771      1   \n",
      "1  2024/10/7   Monday     12:57:00                         777      2   \n",
      "2  2024/10/7   Monday     14:25:00                         865      3   \n",
      "3  2024/10/7   Monday     14:38:00                         878      4   \n",
      "4  2024/10/7   Monday     15:27:00                         927      5   \n",
      "\n",
      "   day_of_week  Weather_light rain  Weather_overcast  Weather_sunny  \\\n",
      "0            0                True             False          False   \n",
      "1            0                True             False          False   \n",
      "2            0                True             False          False   \n",
      "3            0                True             False          False   \n",
      "4            0                True             False          False   \n",
      "\n",
      "   temperature_2m  apparent_temperature  precipitation  wind_speed_10m  \\\n",
      "0            14.3                  13.6            0.6            12.3   \n",
      "1            14.3                  13.6            0.6            12.3   \n",
      "2            14.8                  15.9            0.0             2.3   \n",
      "3            14.8                  15.9            0.0             2.3   \n",
      "4            15.7                  16.8            0.0             3.3   \n",
      "\n",
      "   relative_humidity_2m  cloud_cover  \n",
      "0                    95          100  \n",
      "1                    95          100  \n",
      "2                    97          100  \n",
      "3                    97          100  \n",
      "4                    95          100  \n",
      "Test Data Preview:\n",
      "        Date Week Day Arrival Time  arrival_minutes_after_noon  order  \\\n",
      "0  2024/12/9   Monday     12:00:00                         720      1   \n",
      "1  2024/12/9   Monday     12:22:00                         742      2   \n",
      "2  2024/12/9   Monday     12:44:00                         764      3   \n",
      "3  2024/12/9   Monday     13:06:00                         786      4   \n",
      "4  2024/12/9   Monday     13:28:00                         808      5   \n",
      "\n",
      "   day_of_week  Weather_light rain  Weather_overcast  Weather_sunny  \\\n",
      "0            0                True             False          False   \n",
      "1            0                True             False          False   \n",
      "2            0                True             False          False   \n",
      "3            0                True             False          False   \n",
      "4            0                True             False          False   \n",
      "\n",
      "   temperature_2m  apparent_temperature  precipitation  wind_speed_10m  \\\n",
      "0             8.5                   5.3              0            10.1   \n",
      "1             8.5                   5.3              0            10.1   \n",
      "2             8.5                   5.3              0            10.1   \n",
      "3             8.3                   4.7              0            13.0   \n",
      "4             8.3                   4.7              0            13.0   \n",
      "\n",
      "   relative_humidity_2m  cloud_cover  \n",
      "0                    65           71  \n",
      "1                    65           71  \n",
      "2                    65           71  \n",
      "3                    67           98  \n",
      "4                    67           98  \n"
     ]
    }
   ],
   "source": [
    "if __name__ == \"__main__\":\n",
    "    old_data_path = 'bus_arrival_schedule.csv'\n",
    "    new_data_path = 'bus_arrival_schedule_with_weather.csv'\n",
    "    test_data_path = 'test_data_with_weather.csv'\n",
    "\n",
    "    # Old data\n",
    "    old_data = preprocess_old_data(old_data_path)\n",
    "    print(\"Old Data Preview:\")\n",
    "    print(old_data.head())\n",
    "\n",
    "    # New data\n",
    "    new_data = preprocess_new_data(new_data_path)\n",
    "    print(\"New Data Preview:\")\n",
    "    print(new_data.head())\n",
    "\n",
    "    # Test data\n",
    "    test_data = preprocess_new_data(test_data_path)\n",
    "    print(\"Test Data Preview:\")\n",
    "    print(test_data.head())\n",
    "\n",
    "\n"
   ]
  },
  {
   "cell_type": "code",
   "execution_count": 100,
   "id": "c8ed72062b93b715",
   "metadata": {
    "ExecuteTime": {
     "end_time": "2024-12-11T00:56:05.618227Z",
     "start_time": "2024-12-11T00:56:05.457901Z"
    }
   },
   "outputs": [
    {
     "data": {
      "image/png": "[encoded data removed]",
      "text/plain": [
       "<Figure size 800x600 with 1 Axes>"
      ]
     },
     "metadata": {},
     "output_type": "display_data"
    }
   ],
   "source": [
    "import matplotlib.pyplot as plt\n",
    "\n",
    "def plot_model_mae_comparison(mae_old, mae_new):\n",
    "    \"\"\"\n",
    "    Plot a bar chart comparing the MAE of models trained on old and new data.\n",
    "\n",
    "    Parameters:\n",
    "        mae_old (float): MAE of the model trained on old data.\n",
    "        mae_new (float): MAE of the model trained on new data.\n",
    "    \"\"\"\n",
    "    # Define labels and values\n",
    "    labels = ['Old Data', 'New Data']\n",
    "    values = [mae_old, mae_new]\n",
    "\n",
    "    # Create bar chart\n",
    "    plt.figure(figsize=(8, 6))\n",
    "    plt.bar(labels, values, color=['blue', 'orange'], alpha=0.7)\n",
    "    plt.title('Model Performance Comparison: MAE', fontsize=14)\n",
    "    plt.ylabel('Mean Absolute Error (MAE)', fontsize=12)\n",
    "    plt.xlabel('Training Data Type', fontsize=12)\n",
    "    plt.ylim(0, max(values) + 5)  # Adjust y-axis limit for clarity\n",
    "\n",
    "    # Annotate bars with MAE values\n",
    "    for i, v in enumerate(values):\n",
    "        plt.text(i, v + 0.5, f\"{v:.2f}\", ha='center', fontsize=10)\n",
    "\n",
    "    # Display grid and plot\n",
    "    plt.grid(axis='y', linestyle='--', alpha=0.6)\n",
    "    plt.tight_layout()\n",
    "    plt.show()\n",
    "\n",
    "# Example usage\n",
    "# Assuming `mae_old` and `mae_new` are calculated values\n",
    "plot_model_mae_comparison(mae_old=13.4, mae_new=12.7)\n"
   ]
  }
 ],
 "metadata": {
  "kernelspec": {
   "display_name": "Python 3",
   "language": "python",
   "name": "python3"
  },
  "language_info": {
   "codemirror_mode": {
    "name": "ipython",
    "version": 2
   },
   "file_extension": ".py",
   "mimetype": "text/x-python",
   "name": "python",
   "nbconvert_exporter": "python",
   "pygments_lexer": "ipython2",
   "version": "2.7.6"
  }
 },
 "nbformat": 4,
 "nbformat_minor": 5
}
